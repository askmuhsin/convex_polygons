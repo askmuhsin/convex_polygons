{
 "cells": [
  {
   "cell_type": "code",
   "execution_count": 1,
   "id": "eab2bc18-4d04-4e4a-9548-806f8106dbdf",
   "metadata": {},
   "outputs": [],
   "source": [
    "%load_ext autoreload\n",
    "%autoreload 2"
   ]
  },
  {
   "cell_type": "code",
   "execution_count": 2,
   "id": "4ed5e6b5-a3d5-407a-aace-a930cc1004c6",
   "metadata": {},
   "outputs": [],
   "source": [
    "from polygon import Polygon"
   ]
  },
  {
   "cell_type": "code",
   "execution_count": 3,
   "id": "30aa6c28-1e87-4fed-a3d2-7d6965daacb1",
   "metadata": {},
   "outputs": [],
   "source": [
    "class FakePoly:\n",
    "    def __init__(self, n, r):\n",
    "        self.n = n\n",
    "        self.r = r"
   ]
  },
  {
   "cell_type": "code",
   "execution_count": 4,
   "id": "86455d64-effd-42ca-9ff2-472a3fff86fd",
   "metadata": {},
   "outputs": [],
   "source": [
    "p1 = Polygon(3, 12)\n",
    "p2 = Polygon(4, 20)\n",
    "p3 = Polygon(3, 12)\n",
    "\n",
    "fp1 = FakePoly(3, 12)"
   ]
  },
  {
   "cell_type": "code",
   "execution_count": 5,
   "id": "391b2d99-f402-443c-b136-edc0d5983d40",
   "metadata": {},
   "outputs": [
    {
     "data": {
      "text/plain": [
       "(Polygon(edges/vertices - 3, circumradius - 12),\n",
       " Polygon(edges/vertices - 4, circumradius - 20),\n",
       " Polygon(edges/vertices - 3, circumradius - 12))"
      ]
     },
     "execution_count": 5,
     "metadata": {},
     "output_type": "execute_result"
    }
   ],
   "source": [
    "p1, p2, p3"
   ]
  },
  {
   "cell_type": "code",
   "execution_count": 8,
   "id": "2a60269b-6b04-4f46-ba35-1e991464e5a3",
   "metadata": {},
   "outputs": [
    {
     "data": {
      "text/plain": [
       "(False, True, True)"
      ]
     },
     "execution_count": 8,
     "metadata": {},
     "output_type": "execute_result"
    }
   ],
   "source": [
    "p1!=p3, p1 < p2, p1 >= p3"
   ]
  },
  {
   "cell_type": "code",
   "execution_count": 7,
   "id": "983b2760-4ba7-44c1-9737-71405e2ff761",
   "metadata": {},
   "outputs": [
    {
     "name": "stdout",
     "output_type": "stream",
     "text": [
      "Not an instance of class Polygon !\n"
     ]
    },
    {
     "data": {
      "text/plain": [
       "False"
      ]
     },
     "execution_count": 7,
     "metadata": {},
     "output_type": "execute_result"
    }
   ],
   "source": [
    "fp1==p1"
   ]
  },
  {
   "cell_type": "code",
   "execution_count": 9,
   "id": "1e14cb5c-3553-4ba7-a232-8b735d49b387",
   "metadata": {},
   "outputs": [
    {
     "name": "stdout",
     "output_type": "stream",
     "text": [
      "\n",
      "        Edges / Vertices (n) - 3\n",
      "        Circumradius (R)     - 12\n",
      "        \n",
      "        Interior Angle       - 60.0\n",
      "        Edge Length (s)      - 20.7846\n",
      "        Apothem (a)          - 6.0\n",
      "        Area                 - 187.0615\n",
      "        Perimeter            - 62.3538\n",
      "        \n"
     ]
    }
   ],
   "source": [
    "print(p3)"
   ]
  },
  {
   "cell_type": "code",
   "execution_count": null,
   "id": "6daa9741-2760-45de-afd6-b643cc43ee5c",
   "metadata": {},
   "outputs": [],
   "source": []
  }
 ],
 "metadata": {
  "kernelspec": {
   "display_name": "Python 3",
   "language": "python",
   "name": "python3"
  },
  "language_info": {
   "codemirror_mode": {
    "name": "ipython",
    "version": 3
   },
   "file_extension": ".py",
   "mimetype": "text/x-python",
   "name": "python",
   "nbconvert_exporter": "python",
   "pygments_lexer": "ipython3",
   "version": "3.8.2"
  }
 },
 "nbformat": 4,
 "nbformat_minor": 5
}
