{
 "cells": [
  {
   "cell_type": "code",
   "execution_count": 129,
   "id": "4ed5e6b5-a3d5-407a-aace-a930cc1004c6",
   "metadata": {},
   "outputs": [],
   "source": [
    "import math\n",
    "\n",
    "class Polygon:\n",
    "    \"\"\"\n",
    "    A strictly convex polygon class, ie.. all interior angles < 180 and all sides are equal.\n",
    "    Arguments:\n",
    "        n: int, the number of edges or vertices for the polygon.\n",
    "        r: int, the circumradius of the polygon.\n",
    "    \"\"\"\n",
    "    def __init__(self, n, r):\n",
    "        assert n >= 3, \"a polygon needs to have minimum of 3 edges\"\n",
    "        assert isinstance(n, int), \"number of edges/vertices need to be a whole number > 3\"\n",
    "        \n",
    "        self.n = n # no of edges / vertices\n",
    "        self.r = r # circumradius\n",
    "        \n",
    "        self.interior_angle = self.calc_interior_angle()\n",
    "        self.edge_length = self.calc_edge_length()\n",
    "        self.apothem = self.calc_apothem()\n",
    "        self.area = self.calc_area()\n",
    "        self.perimeter = self.calc_perimeter()\n",
    "    \n",
    "    def calc_interior_angle(self):\n",
    "        return (self.n - 2) * (180 / self.n)\n",
    "\n",
    "    def calc_edge_length(self):\n",
    "        return 2 * self.r * math.sin(math.pi / self.n)\n",
    "\n",
    "    def calc_apothem(self):\n",
    "        return self.r * math.cos(math.pi / self.n)\n",
    "\n",
    "    def calc_area(self):\n",
    "        return 0.5 * self.n * self.edge_length * self.apothem\n",
    "\n",
    "    def calc_perimeter(self):\n",
    "        return self.n * self.edge_length\n",
    "    \n",
    "    def __str__(self):\n",
    "        summary = f\"\"\"\n",
    "        Edges / Vertices (n) - {self.n}\n",
    "        Circumradius (R)     - {self.r}\n",
    "        \n",
    "        Interior Angle       - {self.interior_angle}\n",
    "        Edge Length (s)      - {self.edge_length}\n",
    "        Apothem (a)          - {self.apothem}\n",
    "        Area                 - {self.area}\n",
    "        Perimeter            - {self.perimeter}\n",
    "        \"\"\"\n",
    "        return summary\n",
    "    \n",
    "    def __repr__(self):\n",
    "        return f\"Polygon(edges/vertices - {self.n}, circumradius - {self.r})\"\n",
    "    \n",
    "    def __eq__(self, other):\n",
    "        if isinstance(other, Polygon):\n",
    "            return self.n == other.n and self.r == other.r\n",
    "        else:\n",
    "            print(\"Is not an instance of class Polygon !\")\n",
    "            return False\n",
    "        \n",
    "    def __ne__(self, other):\n",
    "        return not self == other\n",
    "    \n",
    "    def __ge__(self,other):\n",
    "        return self.n >= other.n\n",
    "    \n",
    "    def __gt__(self,other):\n",
    "        return self.n > other.n\n",
    "    \n",
    "    def __le__(self,other):\n",
    "        return self.n <= other.n\n",
    "    \n",
    "    def __lt__(self,other):\n",
    "        return self.n < other.n\n",
    "    "
   ]
  },
  {
   "cell_type": "code",
   "execution_count": 130,
   "id": "30aa6c28-1e87-4fed-a3d2-7d6965daacb1",
   "metadata": {},
   "outputs": [],
   "source": [
    "class FakePoly:\n",
    "    def __init__(self, n, r):\n",
    "        self.n = n\n",
    "        self.r = r"
   ]
  },
  {
   "cell_type": "code",
   "execution_count": 131,
   "id": "c4564a9f-6fa3-40d0-a055-bf276fe68306",
   "metadata": {},
   "outputs": [],
   "source": [
    "fp = FakePoly(3, 12)"
   ]
  },
  {
   "cell_type": "code",
   "execution_count": 132,
   "id": "3f893216-fd6b-4bed-a65c-b5a973a7e9b7",
   "metadata": {},
   "outputs": [
    {
     "ename": "AssertionError",
     "evalue": "number of edges/vertices need to be a whole number > 3",
     "output_type": "error",
     "traceback": [
      "\u001b[0;31m---------------------------------------------------------------------------\u001b[0m",
      "\u001b[0;31mAssertionError\u001b[0m                            Traceback (most recent call last)",
      "\u001b[0;32m<ipython-input-132-2049208657a7>\u001b[0m in \u001b[0;36m<module>\u001b[0;34m\u001b[0m\n\u001b[1;32m      1\u001b[0m \u001b[0mp1\u001b[0m \u001b[0;34m=\u001b[0m \u001b[0mPolygon\u001b[0m\u001b[0;34m(\u001b[0m\u001b[0;36m3\u001b[0m\u001b[0;34m,\u001b[0m \u001b[0;36m12\u001b[0m\u001b[0;34m)\u001b[0m\u001b[0;34m\u001b[0m\u001b[0;34m\u001b[0m\u001b[0m\n\u001b[0;32m----> 2\u001b[0;31m \u001b[0mp2\u001b[0m \u001b[0;34m=\u001b[0m \u001b[0mPolygon\u001b[0m\u001b[0;34m(\u001b[0m\u001b[0;36m3.5\u001b[0m\u001b[0;34m,\u001b[0m \u001b[0;36m0\u001b[0m\u001b[0;34m)\u001b[0m\u001b[0;34m\u001b[0m\u001b[0;34m\u001b[0m\u001b[0m\n\u001b[0m",
      "\u001b[0;32m<ipython-input-129-f26ef7a802be>\u001b[0m in \u001b[0;36m__init__\u001b[0;34m(self, n, r)\u001b[0m\n\u001b[1;32m     10\u001b[0m     \u001b[0;32mdef\u001b[0m \u001b[0m__init__\u001b[0m\u001b[0;34m(\u001b[0m\u001b[0mself\u001b[0m\u001b[0;34m,\u001b[0m \u001b[0mn\u001b[0m\u001b[0;34m,\u001b[0m \u001b[0mr\u001b[0m\u001b[0;34m)\u001b[0m\u001b[0;34m:\u001b[0m\u001b[0;34m\u001b[0m\u001b[0;34m\u001b[0m\u001b[0m\n\u001b[1;32m     11\u001b[0m         \u001b[0;32massert\u001b[0m \u001b[0mn\u001b[0m \u001b[0;34m>=\u001b[0m \u001b[0;36m3\u001b[0m\u001b[0;34m,\u001b[0m \u001b[0;34m\"a polygon needs to have minimum of 3 edges\"\u001b[0m\u001b[0;34m\u001b[0m\u001b[0;34m\u001b[0m\u001b[0m\n\u001b[0;32m---> 12\u001b[0;31m         \u001b[0;32massert\u001b[0m \u001b[0misinstance\u001b[0m\u001b[0;34m(\u001b[0m\u001b[0mn\u001b[0m\u001b[0;34m,\u001b[0m \u001b[0mint\u001b[0m\u001b[0;34m)\u001b[0m\u001b[0;34m,\u001b[0m \u001b[0;34m\"number of edges/vertices need to be a whole number > 3\"\u001b[0m\u001b[0;34m\u001b[0m\u001b[0;34m\u001b[0m\u001b[0m\n\u001b[0m\u001b[1;32m     13\u001b[0m         \u001b[0mself\u001b[0m\u001b[0;34m.\u001b[0m\u001b[0mn\u001b[0m \u001b[0;34m=\u001b[0m \u001b[0mn\u001b[0m \u001b[0;31m# no of edges / vertices\u001b[0m\u001b[0;34m\u001b[0m\u001b[0;34m\u001b[0m\u001b[0m\n\u001b[1;32m     14\u001b[0m         \u001b[0mself\u001b[0m\u001b[0;34m.\u001b[0m\u001b[0mr\u001b[0m \u001b[0;34m=\u001b[0m \u001b[0mr\u001b[0m \u001b[0;31m# circumradius\u001b[0m\u001b[0;34m\u001b[0m\u001b[0;34m\u001b[0m\u001b[0m\n",
      "\u001b[0;31mAssertionError\u001b[0m: number of edges/vertices need to be a whole number > 3"
     ]
    }
   ],
   "source": [
    "p1 = Polygon(3, 12)\n",
    "p2 = Polygon(3.5, 0)"
   ]
  },
  {
   "cell_type": "code",
   "execution_count": 127,
   "id": "2ff8f702-33db-44d3-a796-3cf4e56febe8",
   "metadata": {},
   "outputs": [
    {
     "data": {
      "text/plain": [
       "(Polygon(edges/vertices - 3, circumradius - 12),\n",
       " Polygon(edges/vertices - 3.5, circumradius - 0))"
      ]
     },
     "execution_count": 127,
     "metadata": {},
     "output_type": "execute_result"
    }
   ],
   "source": [
    "p1, p2"
   ]
  },
  {
   "cell_type": "code",
   "execution_count": 128,
   "id": "4d4515a7-4182-49f9-8c50-ea25a49d9c51",
   "metadata": {},
   "outputs": [
    {
     "name": "stdout",
     "output_type": "stream",
     "text": [
      "\n",
      "        Edges / Vertices (n) - 3.5\n",
      "        Circumradius (R)     - 0\n",
      "        \n",
      "        Interior Angle       - 77.14285714285714\n",
      "        Edge Length (s)      - 0.0\n",
      "        Apothem (a)          - 0.0\n",
      "        Area                 - 0.0\n",
      "        Perimeter            - 0.0\n",
      "        \n"
     ]
    }
   ],
   "source": [
    "print(p2)"
   ]
  },
  {
   "cell_type": "code",
   "execution_count": 102,
   "id": "c6d8ea13-e5df-48eb-b78b-2b2edacb2e7a",
   "metadata": {},
   "outputs": [
    {
     "name": "stdout",
     "output_type": "stream",
     "text": [
      "Is not an instance of class Polygon !\n"
     ]
    },
    {
     "data": {
      "text/plain": [
       "True"
      ]
     },
     "execution_count": 102,
     "metadata": {},
     "output_type": "execute_result"
    }
   ],
   "source": [
    "p1!=fp"
   ]
  },
  {
   "cell_type": "code",
   "execution_count": 103,
   "id": "ac352789-bffe-407d-b4c1-4d22d5a01042",
   "metadata": {},
   "outputs": [
    {
     "data": {
      "text/plain": [
       "True"
      ]
     },
     "execution_count": 103,
     "metadata": {},
     "output_type": "execute_result"
    }
   ],
   "source": [
    "p1 >= p2"
   ]
  },
  {
   "cell_type": "code",
   "execution_count": 104,
   "id": "50bfdecc-e997-49bb-8062-3883a64a90cc",
   "metadata": {},
   "outputs": [
    {
     "data": {
      "text/plain": [
       "True"
      ]
     },
     "execution_count": 104,
     "metadata": {},
     "output_type": "execute_result"
    }
   ],
   "source": [
    "p1 <= p2"
   ]
  },
  {
   "cell_type": "code",
   "execution_count": 118,
   "id": "b4a0377b-9e86-49d9-a6a9-95c88b9c05f2",
   "metadata": {},
   "outputs": [
    {
     "name": "stdout",
     "output_type": "stream",
     "text": [
      "\n",
      "        Edges / Vertices (n) - 3\n",
      "        Circumradius (R)     - 12\n",
      "        \n",
      "        Interior Angle       - 60.0\n",
      "        Edge Length (s)      - 20.784609690826528\n",
      "        Apothem (a)          - 6.000000000000002\n",
      "        Area                 - 187.0614872174388\n",
      "        Perimeter            - 62.353829072479584\n",
      "        \n"
     ]
    }
   ],
   "source": [
    "p1.summary()"
   ]
  },
  {
   "cell_type": "code",
   "execution_count": null,
   "id": "2a60269b-6b04-4f46-ba35-1e991464e5a3",
   "metadata": {},
   "outputs": [],
   "source": []
  }
 ],
 "metadata": {
  "kernelspec": {
   "display_name": "Python 3",
   "language": "python",
   "name": "python3"
  },
  "language_info": {
   "codemirror_mode": {
    "name": "ipython",
    "version": 3
   },
   "file_extension": ".py",
   "mimetype": "text/x-python",
   "name": "python",
   "nbconvert_exporter": "python",
   "pygments_lexer": "ipython3",
   "version": "3.8.2"
  }
 },
 "nbformat": 4,
 "nbformat_minor": 5
}
