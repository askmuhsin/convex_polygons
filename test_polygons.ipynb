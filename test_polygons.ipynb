{
 "cells": [
  {
   "cell_type": "code",
   "execution_count": 1,
   "id": "eab2bc18-4d04-4e4a-9548-806f8106dbdf",
   "metadata": {},
   "outputs": [],
   "source": [
    "%load_ext autoreload\n",
    "%autoreload 2"
   ]
  },
  {
   "cell_type": "code",
   "execution_count": 2,
   "id": "4ed5e6b5-a3d5-407a-aace-a930cc1004c6",
   "metadata": {},
   "outputs": [],
   "source": [
    "from polygon import Polygon"
   ]
  },
  {
   "cell_type": "code",
   "execution_count": 3,
   "id": "30aa6c28-1e87-4fed-a3d2-7d6965daacb1",
   "metadata": {},
   "outputs": [],
   "source": [
    "class FakePoly:\n",
    "    def __init__(self, n, r):\n",
    "        self.n = n\n",
    "        self.r = r"
   ]
  },
  {
   "cell_type": "code",
   "execution_count": 4,
   "id": "86455d64-effd-42ca-9ff2-472a3fff86fd",
   "metadata": {},
   "outputs": [],
   "source": [
    "p1 = Polygon(3, 12)\n",
    "p2 = Polygon(4, 20)\n",
    "p3 = Polygon(3, 12)\n",
    "\n",
    "fp1 = FakePoly(3, 12)"
   ]
  },
  {
   "cell_type": "code",
   "execution_count": 5,
   "id": "391b2d99-f402-443c-b136-edc0d5983d40",
   "metadata": {},
   "outputs": [
    {
     "data": {
      "text/plain": [
       "(Polygon(edges/vertices - 3, circumradius - 12),\n",
       " Polygon(edges/vertices - 4, circumradius - 20),\n",
       " Polygon(edges/vertices - 3, circumradius - 12))"
      ]
     },
     "execution_count": 5,
     "metadata": {},
     "output_type": "execute_result"
    }
   ],
   "source": [
    "p1, p2, p3"
   ]
  },
  {
   "cell_type": "code",
   "execution_count": 8,
   "id": "2a60269b-6b04-4f46-ba35-1e991464e5a3",
   "metadata": {},
   "outputs": [
    {
     "data": {
      "text/plain": [
       "(False, True, True)"
      ]
     },
     "execution_count": 8,
     "metadata": {},
     "output_type": "execute_result"
    }
   ],
   "source": [
    "p1!=p3, p1 < p2, p1 >= p3"
   ]
  },
  {
   "cell_type": "code",
   "execution_count": 7,
   "id": "983b2760-4ba7-44c1-9737-71405e2ff761",
   "metadata": {},
   "outputs": [
    {
     "name": "stdout",
     "output_type": "stream",
     "text": [
      "Not an instance of class Polygon !\n"
     ]
    },
    {
     "data": {
      "text/plain": [
       "False"
      ]
     },
     "execution_count": 7,
     "metadata": {},
     "output_type": "execute_result"
    }
   ],
   "source": [
    "fp1==p1"
   ]
  },
  {
   "cell_type": "code",
   "execution_count": 9,
   "id": "1e14cb5c-3553-4ba7-a232-8b735d49b387",
   "metadata": {},
   "outputs": [
    {
     "name": "stdout",
     "output_type": "stream",
     "text": [
      "\n",
      "        Edges / Vertices (n) - 3\n",
      "        Circumradius (R)     - 12\n",
      "        \n",
      "        Interior Angle       - 60.0\n",
      "        Edge Length (s)      - 20.7846\n",
      "        Apothem (a)          - 6.0\n",
      "        Area                 - 187.0615\n",
      "        Perimeter            - 62.3538\n",
      "        \n"
     ]
    }
   ],
   "source": [
    "print(p3)"
   ]
  },
  {
   "cell_type": "code",
   "execution_count": null,
   "id": "6daa9741-2760-45de-afd6-b643cc43ee5c",
   "metadata": {},
   "outputs": [],
   "source": []
  },
  {
   "cell_type": "code",
   "execution_count": 10,
   "id": "2dd50b61-f12c-49d7-9b0c-8c81c5f1e5d7",
   "metadata": {},
   "outputs": [],
   "source": [
    "from functools import lru_cache\n",
    "\n",
    "class Fib:\n",
    "    def __init__(self, n):\n",
    "        self.n = n\n",
    "\n",
    "    def __len__(self):\n",
    "        return self.n\n",
    "\n",
    "\n",
    "    def __getitem__(self, s):\n",
    "        if isinstance(s, int):\n",
    "            if s < 0:\n",
    "                s = self.n + s\n",
    "            if s < 0 or s >=self.n:\n",
    "                raise IndexError\n",
    "            else:\n",
    "                return Fib._fib(s)\n",
    "        else:\n",
    "            start, stop, step = s.indices(self.n)\n",
    "            rng = range(start, stop, step)\n",
    "            return [Fib._fib(i) for i in rng]\n",
    "            \n",
    "    @staticmethod \n",
    "    @lru_cache(2**10) \n",
    "    def _fib(n):\n",
    "        if n < 2:\n",
    "            return 1\n",
    "        else:\n",
    "            return Fib._fib(n-1) + Fib._fib(n-2)\n"
   ]
  },
  {
   "cell_type": "code",
   "execution_count": 83,
   "id": "26728039-fd1f-49a0-b317-9d19fb68991b",
   "metadata": {},
   "outputs": [],
   "source": [
    "class PolygonSequence:\n",
    "    \"\"\"\n",
    "    Given number of vertex for a Polygon, the PolygonSequence class will build all convex polygons upto that size.\n",
    "    All sequence operations are possible with this class including - geting the the length, accessing by index, and slicing.\n",
    "    Additionally the user can also use the method get_max_efficient_polygon to get the polygon with the max efficiency.\n",
    "    \"\"\"\n",
    "    def __init__(self, n, r):\n",
    "        self.n = n\n",
    "        self.r = r\n",
    "        \n",
    "        self.seq = [Polygon(i, r) for i in range(3, n + 1)]\n",
    "        \n",
    "        \n",
    "    def get_max_efficient_polygon(self):\n",
    "        \"\"\"\n",
    "        efficiency of a polygon is defined as area:perimeter ratio.\n",
    "        \"\"\"\n",
    "        argmax, ratio = max(\n",
    "            [\n",
    "                (n, (x.area / x.perimeter))\n",
    "                for n, x in enumerate(self.seq)\n",
    "            ], \n",
    "            key=lambda x: x[1]\n",
    "        )\n",
    "        print(f'Index of most efficient polygon - {argmax}\\tarea:perimeter - {round(ratio, 4)}')\n",
    "        return self.seq[argmax]\n",
    "    \n",
    "    def __len__(self):\n",
    "        return self.n\n",
    "    \n",
    "    def __getitem__(self, s):\n",
    "        if isinstance(s, int):\n",
    "            if s < 0 or s > self.n:\n",
    "                raise IndexError\n",
    "            else:\n",
    "                return self.seq[s]\n",
    "        else:\n",
    "            start, stop, step = s.indices(self.n)\n",
    "            rng = range(start, stop, step)\n",
    "            return [self.seq[i] for i in rng]\n",
    "    \n",
    "    def __repr__(self):\n",
    "        return str([x for x in self.seq])\n",
    "            \n"
   ]
  },
  {
   "cell_type": "code",
   "execution_count": 89,
   "id": "4e6f63c6-d540-4eb8-8c86-855903158b1a",
   "metadata": {},
   "outputs": [],
   "source": [
    "ps = PolygonSequence(10, 10)"
   ]
  },
  {
   "cell_type": "code",
   "execution_count": 90,
   "id": "75d2e5ac-d12c-4512-a7cb-1c262f1af33f",
   "metadata": {},
   "outputs": [
    {
     "data": {
      "text/plain": [
       "[Polygon(edges/vertices - 3, circumradius - 10), Polygon(edges/vertices - 4, circumradius - 10), Polygon(edges/vertices - 5, circumradius - 10), Polygon(edges/vertices - 6, circumradius - 10), Polygon(edges/vertices - 7, circumradius - 10), Polygon(edges/vertices - 8, circumradius - 10), Polygon(edges/vertices - 9, circumradius - 10), Polygon(edges/vertices - 10, circumradius - 10)]"
      ]
     },
     "execution_count": 90,
     "metadata": {},
     "output_type": "execute_result"
    }
   ],
   "source": [
    "ps"
   ]
  },
  {
   "cell_type": "code",
   "execution_count": 91,
   "id": "112484fb-926b-42b8-b94f-c9e4ad0a0a0e",
   "metadata": {},
   "outputs": [
    {
     "name": "stdout",
     "output_type": "stream",
     "text": [
      "Index of most efficient polygon - 7\tarea:perimeter - 4.7553\n"
     ]
    },
    {
     "data": {
      "text/plain": [
       "Polygon(edges/vertices - 10, circumradius - 10)"
      ]
     },
     "execution_count": 91,
     "metadata": {},
     "output_type": "execute_result"
    }
   ],
   "source": [
    "ps.get_max_efficient_polygon()"
   ]
  },
  {
   "cell_type": "code",
   "execution_count": null,
   "id": "905b73e5-793c-4c6e-8c31-468d2b099abd",
   "metadata": {},
   "outputs": [],
   "source": []
  }
 ],
 "metadata": {
  "kernelspec": {
   "display_name": "Python 3",
   "language": "python",
   "name": "python3"
  },
  "language_info": {
   "codemirror_mode": {
    "name": "ipython",
    "version": 3
   },
   "file_extension": ".py",
   "mimetype": "text/x-python",
   "name": "python",
   "nbconvert_exporter": "python",
   "pygments_lexer": "ipython3",
   "version": "3.8.2"
  }
 },
 "nbformat": 4,
 "nbformat_minor": 5
}
