{
 "cells": [
  {
   "cell_type": "code",
   "execution_count": 1,
   "id": "eab2bc18-4d04-4e4a-9548-806f8106dbdf",
   "metadata": {},
   "outputs": [],
   "source": [
    "%load_ext autoreload\n",
    "%autoreload 2"
   ]
  },
  {
   "cell_type": "code",
   "execution_count": 2,
   "id": "4ed5e6b5-a3d5-407a-aace-a930cc1004c6",
   "metadata": {},
   "outputs": [],
   "source": [
    "from polygon import Polygon\n",
    "from polygon_sequence import PolygonSequence"
   ]
  },
  {
   "cell_type": "code",
   "execution_count": 3,
   "id": "30aa6c28-1e87-4fed-a3d2-7d6965daacb1",
   "metadata": {},
   "outputs": [],
   "source": [
    "class FakePoly:\n",
    "    def __init__(self, n, r):\n",
    "        self.n = n\n",
    "        self.r = r"
   ]
  },
  {
   "cell_type": "code",
   "execution_count": 4,
   "id": "86455d64-effd-42ca-9ff2-472a3fff86fd",
   "metadata": {},
   "outputs": [],
   "source": [
    "p1 = Polygon(3, 12)\n",
    "p2 = Polygon(4, 20)\n",
    "p3 = Polygon(3, 12)\n",
    "\n",
    "fp1 = FakePoly(3, 12)"
   ]
  },
  {
   "cell_type": "code",
   "execution_count": 5,
   "id": "391b2d99-f402-443c-b136-edc0d5983d40",
   "metadata": {},
   "outputs": [
    {
     "data": {
      "text/plain": [
       "(Polygon(edges/vertices - 3, circumradius - 12),\n",
       " Polygon(edges/vertices - 4, circumradius - 20),\n",
       " Polygon(edges/vertices - 3, circumradius - 12))"
      ]
     },
     "execution_count": 5,
     "metadata": {},
     "output_type": "execute_result"
    }
   ],
   "source": [
    "p1, p2, p3"
   ]
  },
  {
   "cell_type": "code",
   "execution_count": 6,
   "id": "2a60269b-6b04-4f46-ba35-1e991464e5a3",
   "metadata": {},
   "outputs": [
    {
     "data": {
      "text/plain": [
       "(False, True, True)"
      ]
     },
     "execution_count": 6,
     "metadata": {},
     "output_type": "execute_result"
    }
   ],
   "source": [
    "p1!=p3, p1 < p2, p1 >= p3"
   ]
  },
  {
   "cell_type": "code",
   "execution_count": 7,
   "id": "983b2760-4ba7-44c1-9737-71405e2ff761",
   "metadata": {},
   "outputs": [
    {
     "name": "stdout",
     "output_type": "stream",
     "text": [
      "Not an instance of class Polygon !\n"
     ]
    },
    {
     "data": {
      "text/plain": [
       "False"
      ]
     },
     "execution_count": 7,
     "metadata": {},
     "output_type": "execute_result"
    }
   ],
   "source": [
    "fp1==p1"
   ]
  },
  {
   "cell_type": "code",
   "execution_count": 8,
   "id": "1e14cb5c-3553-4ba7-a232-8b735d49b387",
   "metadata": {},
   "outputs": [
    {
     "name": "stdout",
     "output_type": "stream",
     "text": [
      "\n",
      "        Edges / Vertices (n) - 3\n",
      "        Circumradius (R)     - 12\n",
      "        \n",
      "        Interior Angle       - 60.0\n",
      "        Edge Length (s)      - 20.7846\n",
      "        Apothem (a)          - 6.0\n",
      "        Area                 - 187.0615\n",
      "        Perimeter            - 62.3538\n",
      "        \n"
     ]
    }
   ],
   "source": [
    "print(p3)"
   ]
  },
  {
   "cell_type": "code",
   "execution_count": 9,
   "id": "6daa9741-2760-45de-afd6-b643cc43ee5c",
   "metadata": {},
   "outputs": [],
   "source": [
    "ps = PolygonSequence(10, 10)"
   ]
  },
  {
   "cell_type": "code",
   "execution_count": 10,
   "id": "905b73e5-793c-4c6e-8c31-468d2b099abd",
   "metadata": {},
   "outputs": [
    {
     "data": {
      "text/plain": [
       "[Polygon(edges/vertices - 3, circumradius - 10), Polygon(edges/vertices - 4, circumradius - 10), Polygon(edges/vertices - 5, circumradius - 10), Polygon(edges/vertices - 6, circumradius - 10), Polygon(edges/vertices - 7, circumradius - 10), Polygon(edges/vertices - 8, circumradius - 10), Polygon(edges/vertices - 9, circumradius - 10), Polygon(edges/vertices - 10, circumradius - 10)]"
      ]
     },
     "execution_count": 10,
     "metadata": {},
     "output_type": "execute_result"
    }
   ],
   "source": [
    "ps"
   ]
  },
  {
   "cell_type": "code",
   "execution_count": 11,
   "id": "a1f47f7c-7778-4104-8b4e-b200cda651cb",
   "metadata": {},
   "outputs": [
    {
     "data": {
      "text/plain": [
       "Polygon(edges/vertices - 5, circumradius - 10)"
      ]
     },
     "execution_count": 11,
     "metadata": {},
     "output_type": "execute_result"
    }
   ],
   "source": [
    "ps[2]"
   ]
  },
  {
   "cell_type": "code",
   "execution_count": 12,
   "id": "d6b848cd-6517-48cd-b07d-260b422918d7",
   "metadata": {},
   "outputs": [
    {
     "data": {
      "text/plain": [
       "8"
      ]
     },
     "execution_count": 12,
     "metadata": {},
     "output_type": "execute_result"
    }
   ],
   "source": [
    "len(ps) ## note no polygons with edges 1 and 2"
   ]
  },
  {
   "cell_type": "code",
   "execution_count": 13,
   "id": "366e15dc-79d4-4230-8ad9-c764ef6f0c3e",
   "metadata": {},
   "outputs": [
    {
     "name": "stdout",
     "output_type": "stream",
     "text": [
      "Index of most efficient polygon - 7\tarea:perimeter - 4.7553\n"
     ]
    },
    {
     "data": {
      "text/plain": [
       "Polygon(edges/vertices - 10, circumradius - 10)"
      ]
     },
     "execution_count": 13,
     "metadata": {},
     "output_type": "execute_result"
    }
   ],
   "source": [
    "ps.get_max_efficient_polygon()"
   ]
  },
  {
   "cell_type": "code",
   "execution_count": 14,
   "id": "7e42a1c6-8e1a-47b9-9218-5eee14551384",
   "metadata": {},
   "outputs": [
    {
     "data": {
      "text/plain": [
       "[Polygon(edges/vertices - 3, circumradius - 10),\n",
       " Polygon(edges/vertices - 4, circumradius - 10),\n",
       " Polygon(edges/vertices - 5, circumradius - 10),\n",
       " Polygon(edges/vertices - 6, circumradius - 10),\n",
       " Polygon(edges/vertices - 7, circumradius - 10),\n",
       " Polygon(edges/vertices - 8, circumradius - 10),\n",
       " Polygon(edges/vertices - 9, circumradius - 10),\n",
       " Polygon(edges/vertices - 10, circumradius - 10)]"
      ]
     },
     "execution_count": 14,
     "metadata": {},
     "output_type": "execute_result"
    }
   ],
   "source": [
    "ps[0:8]"
   ]
  },
  {
   "cell_type": "code",
   "execution_count": 15,
   "id": "1302d667-59cc-4d99-90a0-f1b9955ed816",
   "metadata": {},
   "outputs": [
    {
     "data": {
      "text/plain": [
       "Polygon(edges/vertices - 10, circumradius - 10)"
      ]
     },
     "execution_count": 15,
     "metadata": {},
     "output_type": "execute_result"
    }
   ],
   "source": [
    "ps[-1]"
   ]
  },
  {
   "cell_type": "code",
   "execution_count": 16,
   "id": "94959705-7c63-4979-a73c-e4860939357f",
   "metadata": {},
   "outputs": [
    {
     "data": {
      "text/plain": [
       "[Polygon(edges/vertices - 4, circumradius - 10),\n",
       " Polygon(edges/vertices - 6, circumradius - 10)]"
      ]
     },
     "execution_count": 16,
     "metadata": {},
     "output_type": "execute_result"
    }
   ],
   "source": [
    "ps[1:5:2]"
   ]
  },
  {
   "cell_type": "code",
   "execution_count": null,
   "id": "d9f7b57c-5ed8-4236-9a50-a15df5ac3a81",
   "metadata": {},
   "outputs": [],
   "source": []
  },
  {
   "cell_type": "code",
   "execution_count": null,
   "id": "a2d6408e-a7ff-4bf5-9ab5-1038d7e4114d",
   "metadata": {},
   "outputs": [],
   "source": []
  }
 ],
 "metadata": {
  "kernelspec": {
   "display_name": "Python 3",
   "language": "python",
   "name": "python3"
  },
  "language_info": {
   "codemirror_mode": {
    "name": "ipython",
    "version": 3
   },
   "file_extension": ".py",
   "mimetype": "text/x-python",
   "name": "python",
   "nbconvert_exporter": "python",
   "pygments_lexer": "ipython3",
   "version": "3.8.2"
  }
 },
 "nbformat": 4,
 "nbformat_minor": 5
}
